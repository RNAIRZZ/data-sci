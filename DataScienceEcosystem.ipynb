{
 "cells": [
  {
   "cell_type": "markdown",
   "id": "3c6ffdbb",
   "metadata": {},
   "source": [
    "# THIS IS MARKDOWN CELL"
   ]
  },
  {
   "cell_type": "markdown",
   "id": "f150c9d7",
   "metadata": {},
   "source": [
    "# Data science tools and ecosystem are summarized"
   ]
  },
  {
   "cell_type": "markdown",
   "id": "dd2bddec",
   "metadata": {},
   "source": [
    "# some of the commonly used by data scientists include:\n",
    "\n",
    "language 1: Python\n",
    "language 2: R\n",
    "language 3: Java"
   ]
  },
  {
   "cell_type": "markdown",
   "id": "4dd9caea",
   "metadata": {},
   "source": [
    "# some of the commonly used libraries by data scientist are:\n",
    "1.pandas\n",
    "2.Numpy\n",
    "3.Seaborn"
   ]
  },
  {
   "cell_type": "markdown",
   "id": "a013b715",
   "metadata": {},
   "source": [
    "# some of the commonly used data science tools are :"
   ]
  },
  {
   "cell_type": "markdown",
   "id": "b0c44242",
   "metadata": {},
   "source": [
    "|Data science tools |\n",
    "|-------------------|\n",
    "|Jupyternotebook    |  \n",
    "|-------------------|\n",
    "|Vs studio          |\n",
    "|-------------------|\n",
    "|Rstudio            |\n",
    "|-------------------|"
   ]
  },
  {
   "cell_type": "markdown",
   "id": "14f93795",
   "metadata": {},
   "source": []
  },
  {
   "cell_type": "markdown",
   "id": "b8f9c3c6",
   "metadata": {},
   "source": [
    "# Below are a few examples of evaluating arithmetic expressions in Python\n"
   ]
  },
  {
   "cell_type": "code",
   "execution_count": 17,
   "id": "c7619af2",
   "metadata": {},
   "outputs": [
    {
     "name": "stdout",
     "output_type": "stream",
     "text": [
      "5\n",
      "2\n",
      "7\n"
     ]
    }
   ],
   "source": [
    "print(2+3)\n",
    "print(3-1)\n",
    "print(3+4)\n"
   ]
  },
  {
   "cell_type": "markdown",
   "id": "684c7444",
   "metadata": {},
   "source": [
    "# This a simple arithmetic expression to mutiply then add integers."
   ]
  },
  {
   "cell_type": "code",
   "execution_count": 18,
   "id": "00e22759",
   "metadata": {},
   "outputs": [
    {
     "data": {
      "text/plain": [
       "17"
      ]
     },
     "execution_count": 18,
     "metadata": {},
     "output_type": "execute_result"
    }
   ],
   "source": [
    "(3*5)+2"
   ]
  },
  {
   "cell_type": "markdown",
   "id": "3033a9aa",
   "metadata": {},
   "source": [
    "#  This will convert 200 minutes to hours by diving by 60."
   ]
  },
  {
   "cell_type": "code",
   "execution_count": 19,
   "id": "a41aa333",
   "metadata": {},
   "outputs": [
    {
     "data": {
      "text/plain": [
       "3.3333333333333335"
      ]
     },
     "execution_count": 19,
     "metadata": {},
     "output_type": "execute_result"
    }
   ],
   "source": [
    "200/60"
   ]
  },
  {
   "cell_type": "markdown",
   "id": "c32bd0a8",
   "metadata": {},
   "source": [
    "# Objectives:"
   ]
  },
  {
   "cell_type": "markdown",
   "id": "819a6dae",
   "metadata": {},
   "source": [
    "-  tools used by data scientist\n",
    "-  arithmetic expressions\n",
    "-  commonly used libraries"
   ]
  },
  {
   "cell_type": "code",
   "execution_count": 20,
   "id": "17507220",
   "metadata": {},
   "outputs": [],
   "source": [
    "def Author():\n",
    "    Author\n",
    "    riya"
   ]
  }
 ],
 "metadata": {
  "kernelspec": {
   "display_name": "Python 3 (ipykernel)",
   "language": "python",
   "name": "python3"
  },
  "language_info": {
   "codemirror_mode": {
    "name": "ipython",
    "version": 3
   },
   "file_extension": ".py",
   "mimetype": "text/x-python",
   "name": "python",
   "nbconvert_exporter": "python",
   "pygments_lexer": "ipython3",
   "version": "3.12.4"
  }
 },
 "nbformat": 4,
 "nbformat_minor": 5
}
